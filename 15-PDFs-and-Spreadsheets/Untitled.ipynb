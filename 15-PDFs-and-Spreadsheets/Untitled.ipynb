{
 "cells": [
  {
   "cell_type": "code",
   "execution_count": 2,
   "id": "0c0e261f",
   "metadata": {},
   "outputs": [
    {
     "data": {
      "text/plain": [
       "'C:\\\\Users\\\\kingt\\\\OneDrive\\\\Desktop\\\\Zero2Hero\\\\Complete-Python-3-Bootcamp-master\\\\15-PDFs-and-Spreadsheets'"
      ]
     },
     "execution_count": 2,
     "metadata": {},
     "output_type": "execute_result"
    }
   ],
   "source": [
    "pwd"
   ]
  },
  {
   "cell_type": "code",
   "execution_count": 3,
   "id": "a687cb42",
   "metadata": {},
   "outputs": [],
   "source": [
    "import csv"
   ]
  },
  {
   "cell_type": "code",
   "execution_count": 8,
   "id": "04782879",
   "metadata": {},
   "outputs": [],
   "source": [
    "# Open the file\n",
    "data = open('example.csv',encoding='utf-8')"
   ]
  },
  {
   "cell_type": "code",
   "execution_count": 9,
   "id": "e2f092df",
   "metadata": {},
   "outputs": [],
   "source": [
    "# csv.reader\n",
    "csv_data = csv.reader(data)"
   ]
  },
  {
   "cell_type": "code",
   "execution_count": 10,
   "id": "aa88bb0d",
   "metadata": {},
   "outputs": [],
   "source": [
    "# reformat it into a python object list of lists\n",
    "data_lines = list(csv_data)"
   ]
  },
  {
   "cell_type": "code",
   "execution_count": 16,
   "id": "876445e4",
   "metadata": {},
   "outputs": [
    {
     "data": {
      "text/plain": [
       "'hgasquoine9@google.ru'"
      ]
     },
     "execution_count": 16,
     "metadata": {},
     "output_type": "execute_result"
    }
   ],
   "source": [
    "data_lines[10][3]"
   ]
  },
  {
   "cell_type": "code",
   "execution_count": 13,
   "id": "ed2fc932",
   "metadata": {},
   "outputs": [
    {
     "data": {
      "text/plain": [
       "1001"
      ]
     },
     "execution_count": 13,
     "metadata": {},
     "output_type": "execute_result"
    }
   ],
   "source": [
    "len(data_lines)"
   ]
  },
  {
   "cell_type": "code",
   "execution_count": 14,
   "id": "6d741b9b",
   "metadata": {},
   "outputs": [
    {
     "name": "stdout",
     "output_type": "stream",
     "text": [
      "['id', 'first_name', 'last_name', 'email', 'gender', 'ip_address', 'city']\n",
      "['1', 'Joseph', 'Zaniolini', 'jzaniolini0@simplemachines.org', 'Male', '163.168.68.132', 'Pedro Leopoldo']\n",
      "['2', 'Freida', 'Drillingcourt', 'fdrillingcourt1@umich.edu', 'Female', '97.212.102.79', 'Buri']\n",
      "['3', 'Nanni', 'Herity', 'nherity2@statcounter.com', 'Female', '145.151.178.98', 'Claver']\n",
      "['4', 'Orazio', 'Frayling', 'ofrayling3@economist.com', 'Male', '25.199.143.143', 'Kungur']\n"
     ]
    }
   ],
   "source": [
    "for line in data_lines[:5]:\n",
    "    print(line)"
   ]
  },
  {
   "cell_type": "code",
   "execution_count": 21,
   "id": "b39001ae",
   "metadata": {
    "scrolled": false
   },
   "outputs": [
    {
     "name": "stdout",
     "output_type": "stream",
     "text": [
      "jzaniolini0@simplemachines.org\n",
      "fdrillingcourt1@umich.edu\n",
      "nherity2@statcounter.com\n",
      "ofrayling3@economist.com\n",
      "jmurrison4@cbslocal.com\n",
      "lgamet5@list-manage.com\n",
      "dhowatt6@amazon.com\n",
      "kherion7@amazon.com\n",
      "chedworth8@china.com.cn\n",
      "hgasquoine9@google.ru\n",
      "ftarra@shareasale.com\n",
      "abathb@umn.edu\n",
      "lchastangc@goo.gl\n",
      "cceried@yale.edu\n"
     ]
    }
   ],
   "source": [
    "for email in data_lines[1:15]:\n",
    "    print (email[3])"
   ]
  },
  {
   "cell_type": "code",
   "execution_count": 23,
   "id": "d7d19050",
   "metadata": {},
   "outputs": [
    {
     "data": {
      "text/plain": [
       "['10',\n",
       " 'Hyatt',\n",
       " 'Gasquoine',\n",
       " 'hgasquoine9@google.ru',\n",
       " 'Male',\n",
       " '221.155.106.39',\n",
       " 'Złoty Stok']"
      ]
     },
     "execution_count": 23,
     "metadata": {},
     "output_type": "execute_result"
    }
   ],
   "source": [
    "data_lines[10]"
   ]
  },
  {
   "cell_type": "code",
   "execution_count": 28,
   "id": "67d98468",
   "metadata": {},
   "outputs": [
    {
     "name": "stdout",
     "output_type": "stream",
     "text": [
      "Joseph Zaniolini\n",
      "Freida Drillingcourt\n",
      "Nanni Herity\n",
      "Orazio Frayling\n",
      "Julianne Murrison\n",
      "Lucy Gamet\n",
      "Dyana Howatt\n",
      "Kassey Herion\n",
      "Chrissy Hedworth\n",
      "Hyatt Gasquoine\n",
      "Felicdad Tarr\n",
      "Andrew Bath\n",
      "Lucais Chastang\n",
      "Car Cerie\n"
     ]
    }
   ],
   "source": [
    "for name in data_lines[1:15]:\n",
    "    print (name[1] + ' ' + name[2]) "
   ]
  },
  {
   "cell_type": "code",
   "execution_count": 29,
   "id": "23be7ea7",
   "metadata": {},
   "outputs": [],
   "source": [
    "file_to_output = open('to_save_file.csv',mode='w',newline='')"
   ]
  },
  {
   "cell_type": "code",
   "execution_count": 30,
   "id": "e50294b2",
   "metadata": {},
   "outputs": [],
   "source": [
    "csv_writer = csv.writer(file_to_output,delimiter=',')"
   ]
  },
  {
   "cell_type": "code",
   "execution_count": 31,
   "id": "242a1b3a",
   "metadata": {},
   "outputs": [
    {
     "data": {
      "text/plain": [
       "7"
      ]
     },
     "execution_count": 31,
     "metadata": {},
     "output_type": "execute_result"
    }
   ],
   "source": [
    "csv_writer.writerow(['a','b','c'])"
   ]
  },
  {
   "cell_type": "code",
   "execution_count": 32,
   "id": "5899ced3",
   "metadata": {},
   "outputs": [],
   "source": [
    "csv_writer.writerows([['1','2','3'],['4','5','6']])"
   ]
  },
  {
   "cell_type": "code",
   "execution_count": 33,
   "id": "2cc5b24b",
   "metadata": {},
   "outputs": [],
   "source": [
    "file_to_output.close()"
   ]
  },
  {
   "cell_type": "code",
   "execution_count": 34,
   "id": "84c31999",
   "metadata": {},
   "outputs": [],
   "source": [
    "f = open('to_save_file.csv',mode='a',newline='')"
   ]
  },
  {
   "cell_type": "code",
   "execution_count": 35,
   "id": "0e918be4",
   "metadata": {},
   "outputs": [],
   "source": [
    "csv_writer = csv.writer(f)"
   ]
  },
  {
   "cell_type": "code",
   "execution_count": 36,
   "id": "bd050df8",
   "metadata": {},
   "outputs": [
    {
     "data": {
      "text/plain": [
       "7"
      ]
     },
     "execution_count": 36,
     "metadata": {},
     "output_type": "execute_result"
    }
   ],
   "source": [
    "csv_writer.writerow(['1','2','3'])"
   ]
  },
  {
   "cell_type": "code",
   "execution_count": 37,
   "id": "62a1d884",
   "metadata": {},
   "outputs": [],
   "source": [
    "f.close()"
   ]
  },
  {
   "cell_type": "code",
   "execution_count": null,
   "id": "3870f302",
   "metadata": {},
   "outputs": [],
   "source": [
    " "
   ]
  }
 ],
 "metadata": {
  "kernelspec": {
   "display_name": "Python 3",
   "language": "python",
   "name": "python3"
  },
  "language_info": {
   "codemirror_mode": {
    "name": "ipython",
    "version": 3
   },
   "file_extension": ".py",
   "mimetype": "text/x-python",
   "name": "python",
   "nbconvert_exporter": "python",
   "pygments_lexer": "ipython3",
   "version": "3.8.8"
  }
 },
 "nbformat": 4,
 "nbformat_minor": 5
}
