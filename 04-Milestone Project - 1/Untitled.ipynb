{
 "cells": [
  {
   "cell_type": "code",
   "execution_count": 1,
   "id": "c28d6837",
   "metadata": {},
   "outputs": [],
   "source": [
    "from IPython.display import clear_output\n",
    "\n",
    "def display_board(board):\n",
    "    clear_output()  # Remember, this only works in jupyter!\n",
    "    print(board[7] + '║' + board[8] + '║' + board[9])\n",
    "    print('═╬═╬═')\n",
    "    print(board[4] + '║' + board[5] + '║' + board[6])\n",
    "    print('═╬═╬═')\n",
    "    print(board[1] + '║' + board[2] + '║' + board[3])"
   ]
  },
  {
   "cell_type": "code",
   "execution_count": 2,
   "id": "c507bb2a",
   "metadata": {
    "scrolled": true
   },
   "outputs": [
    {
     "name": "stdout",
     "output_type": "stream",
     "text": [
      " ║ ║ \n",
      "═╬═╬═\n",
      " ║ ║ \n",
      "═╬═╬═\n",
      " ║ ║ \n"
     ]
    }
   ],
   "source": [
    "test_board = [' '] * 10\n",
    "display_board(test_board)"
   ]
  },
  {
   "cell_type": "code",
   "execution_count": 3,
   "id": "5f73bb77",
   "metadata": {},
   "outputs": [],
   "source": [
    "def player_input():\n",
    "    marker = ''\n",
    "    \n",
    "    # KEEP ASKING PLAYER 1 to choose X or O\n",
    "    \n",
    "    while not (marker == 'X' or marker == 'O'):\n",
    "        marker = input('Player 1, choose X or O: ').upper()\n",
    "    \n",
    "    # ASSIGN PLAYER 2, the opposite marker\n",
    "\n",
    "    if marker == 'X':\n",
    "        return('X', 'O')\n",
    "    else:\n",
    "        return('O', 'X')\n",
    "        "
   ]
  },
  {
   "cell_type": "code",
   "execution_count": 4,
   "id": "4425da60",
   "metadata": {},
   "outputs": [],
   "source": [
    "def place_marker(board, marker, position):  \n",
    "    board[position] = marker"
   ]
  },
  {
   "cell_type": "code",
   "execution_count": 5,
   "id": "b92eb8a6",
   "metadata": {},
   "outputs": [
    {
     "data": {
      "text/plain": [
       "[' ', ' ', ' ', ' ', ' ', ' ', ' ', ' ', ' ', ' ']"
      ]
     },
     "execution_count": 5,
     "metadata": {},
     "output_type": "execute_result"
    }
   ],
   "source": [
    "test_board"
   ]
  },
  {
   "cell_type": "code",
   "execution_count": 6,
   "id": "8448321e",
   "metadata": {},
   "outputs": [
    {
     "name": "stdout",
     "output_type": "stream",
     "text": [
      " ║$║ \n",
      "═╬═╬═\n",
      " ║ ║ \n",
      "═╬═╬═\n",
      " ║ ║ \n"
     ]
    }
   ],
   "source": [
    "place_marker(test_board,'$',8)\n",
    "display_board(test_board)"
   ]
  },
  {
   "cell_type": "code",
   "execution_count": 7,
   "id": "45ec68c3",
   "metadata": {},
   "outputs": [],
   "source": [
    "def win_check(board,mark):\n",
    "    \n",
    "    # ALL ROWS, and check to see if they all share the same markers?\n",
    "    return ((board[7] == mark and board[8] == mark and board[9] == mark) or # across the top\n",
    "    (board[4] == mark and board[5] == mark and board[6] == mark) or # across the middle\n",
    "    (board[1] == mark and board[2] == mark and board[3] == mark) or # across the bottom\n",
    "        \n",
    "    # ALL Columns, check to se if marker matches\n",
    "    (board[7] == mark and board[4] == mark and board[1] == mark) or # down the middle\n",
    "    (board[8] == mark and board[5] == mark and board[2] == mark) or # down the middle\n",
    "    (board[9] == mark and board[6] == mark and board[3] == mark) or # down the right side\n",
    "     \n",
    "    # 2 diagnoals, check to see match\n",
    "    (board[7] == mark and board[5] == mark and board[3] == mark) or # diagonal\n",
    "    (board[9] == mark and board[5] == mark and board[1] == mark)) # diagonal"
   ]
  },
  {
   "cell_type": "code",
   "execution_count": 8,
   "id": "70976202",
   "metadata": {},
   "outputs": [
    {
     "name": "stdout",
     "output_type": "stream",
     "text": [
      " ║$║ \n",
      "═╬═╬═\n",
      " ║ ║ \n",
      "═╬═╬═\n",
      " ║ ║ \n"
     ]
    },
    {
     "data": {
      "text/plain": [
       "False"
      ]
     },
     "execution_count": 8,
     "metadata": {},
     "output_type": "execute_result"
    }
   ],
   "source": [
    "display_board(test_board)\n",
    "win_check(test_board, 'X')"
   ]
  },
  {
   "cell_type": "code",
   "execution_count": 9,
   "id": "7a9e94fc",
   "metadata": {},
   "outputs": [],
   "source": [
    "import random\n",
    "\n",
    "def choose_first():\n",
    "    if random.randint(0, 1) == 0:\n",
    "        return 'Player 2'\n",
    "    else:\n",
    "        return 'Player 1'"
   ]
  },
  {
   "cell_type": "code",
   "execution_count": 10,
   "id": "5d7deb36",
   "metadata": {},
   "outputs": [],
   "source": [
    "def space_check(board, position):\n",
    "    \n",
    "    return board[position] == ' '"
   ]
  },
  {
   "cell_type": "code",
   "execution_count": 11,
   "id": "9726ab52",
   "metadata": {},
   "outputs": [],
   "source": [
    "def full_board_check(board):\n",
    "    \n",
    "    for i in range(1, 10):\n",
    "        if space_check(board, i):\n",
    "            return False\n",
    "    return True"
   ]
  },
  {
   "cell_type": "code",
   "execution_count": 12,
   "id": "a3d49296",
   "metadata": {},
   "outputs": [],
   "source": [
    "def player_choice(board):    \n",
    "    position = 0\n",
    "    \n",
    "    while position not in range(1, 10) or not space_check(board, position):\n",
    "        position = int(input('Choose a position: (1-9)'))\n",
    "        \n",
    "    return position"
   ]
  },
  {
   "cell_type": "code",
   "execution_count": 13,
   "id": "9918a953",
   "metadata": {},
   "outputs": [],
   "source": [
    "def replay():\n",
    "    \n",
    "    return input('Do you want to play again? Enter Yes or No: ').lower().startswith('y')"
   ]
  },
  {
   "cell_type": "code",
   "execution_count": 17,
   "id": "b3923fc7",
   "metadata": {},
   "outputs": [
    {
     "name": "stdout",
     "output_type": "stream",
     "text": [
      "O║ ║ \n",
      "═╬═╬═\n",
      "O║ ║ \n",
      "═╬═╬═\n",
      "O║X║X\n",
      "PLAYER 2 HAS WON!!\n",
      "Do you want to play again? Enter Yes or No: No\n"
     ]
    }
   ],
   "source": [
    "# WHILE LOOP TO KEEP RUNNING THE GAME\n",
    "print('Welcome to Tic Tac Toe')\n",
    "\n",
    "while True:\n",
    "    # Reset the board\n",
    "    theBoard = [' '] * 10\n",
    "    player1_marker, player2_marker = player_input()\n",
    "    turn = choose_first()\n",
    "    print(turn + ' will go first.')\n",
    "    \n",
    "    play_game = input('Are you ready to play? Enter Yes or No.')\n",
    "    \n",
    "    if play_game.lower()[0] == 'y':\n",
    "        game_on = True\n",
    "    else:\n",
    "        game_on = False\n",
    "        \n",
    "    ## Gameplay\n",
    "    \n",
    "    while game_on:     \n",
    "        if turn == 'Player 1':\n",
    "        # Player 1 turn\n",
    "\n",
    "            # Show the board\n",
    "            display_board(theBoard)\n",
    "\n",
    "            # Choose a position\n",
    "            position = player_choice(theBoard)\n",
    "\n",
    "            # Place the marker on the position\n",
    "            place_marker(theBoard, player1_marker, position)\n",
    "\n",
    "            # Check if they won\n",
    "            if win_check(theBoard, player1_marker):\n",
    "                display_board(theBoard)\n",
    "                print('PLAYER 1 HAS WON!!')\n",
    "                game_on = False\n",
    "            else:\n",
    "                if full_board_check(theBoard):\n",
    "                    display_board(theBoard)\n",
    "                    print('TIE GAME!')\n",
    "                    break\n",
    "                else:\n",
    "                    turn = 'Player 2'\n",
    "        else:\n",
    "            # PLAYER 2 TURN\n",
    "            \n",
    "            # Show the board\n",
    "            display_board(theBoard)\n",
    "\n",
    "            # Choose a position\n",
    "            position = player_choice(theBoard)\n",
    "\n",
    "            # Place the marker on the position\n",
    "            place_marker(theBoard, player2_marker, position)\n",
    "\n",
    "            # Check if they won\n",
    "            if win_check(theBoard, player2_marker):\n",
    "                display_board(theBoard)\n",
    "                print('PLAYER 2 HAS WON!!')\n",
    "                game_on = False\n",
    "            else:\n",
    "                if full_board_check(theBoard):\n",
    "                    display_board(theBoard)\n",
    "                    print('TIE GAME!')\n",
    "                    break\n",
    "                else:\n",
    "                    turn = 'Player 1'\n",
    "    if not replay():\n",
    "        break\n"
   ]
  },
  {
   "cell_type": "code",
   "execution_count": null,
   "id": "b9a7b169",
   "metadata": {},
   "outputs": [],
   "source": [
    "print('Welcome to Tic Tac Toe!')\n",
    "\n",
    "while True:\n",
    "    # Reset the board\n",
    "    theBoard = [' '] * 10\n",
    "    player1_marker, player2_marker = player_input()\n",
    "    turn = choose_first()\n",
    "    print(turn + ' will go first.')\n",
    "    \n",
    "    play_game = input('Are you ready to play? Enter Yes or No.')\n",
    "    \n",
    "    if play_game.lower()[0] == 'y':\n",
    "        game_on = True\n",
    "    else:\n",
    "        game_on = False\n",
    "\n",
    "    while game_on:\n",
    "        if turn == 'Player 1':\n",
    "            # Player1's turn.\n",
    "            \n",
    "            display_board(theBoard)\n",
    "            position = player_choice(theBoard)\n",
    "            place_marker(theBoard, player1_marker, position)\n",
    "\n",
    "            if win_check(theBoard, player1_marker):\n",
    "                display_board(theBoard)\n",
    "                print('Congratulations! You have won the game!')\n",
    "                game_on = False\n",
    "            else:\n",
    "                if full_board_check(theBoard):\n",
    "                    display_board(theBoard)\n",
    "                    print('The game is a draw!')\n",
    "                    break\n",
    "                else:\n",
    "                    turn = 'Player 2'\n",
    "\n",
    "        else:\n",
    "            # Player2's turn.\n",
    "            \n",
    "            display_board(theBoard)\n",
    "            position = player_choice(theBoard)\n",
    "            place_marker(theBoard, player2_marker, position)\n",
    "\n",
    "            if win_check(theBoard, player2_marker):\n",
    "                display_board(theBoard)\n",
    "                print('Player 2 has won!')\n",
    "                game_on = False\n",
    "            else:\n",
    "                if full_board_check(theBoard):\n",
    "                    display_board(theBoard)\n",
    "                    print('The game is a draw!')\n",
    "                    break\n",
    "                else:\n",
    "                    turn = 'Player 1'\n",
    "\n",
    "    if not replay():\n",
    "        break"
   ]
  },
  {
   "cell_type": "code",
   "execution_count": null,
   "id": "3aee4b28",
   "metadata": {},
   "outputs": [],
   "source": [
    "theBoard = [' '] * 10"
   ]
  },
  {
   "cell_type": "code",
   "execution_count": null,
   "id": "c97fa04c",
   "metadata": {},
   "outputs": [],
   "source": []
  }
 ],
 "metadata": {
  "kernelspec": {
   "display_name": "Python 3",
   "language": "python",
   "name": "python3"
  },
  "language_info": {
   "codemirror_mode": {
    "name": "ipython",
    "version": 3
   },
   "file_extension": ".py",
   "mimetype": "text/x-python",
   "name": "python",
   "nbconvert_exporter": "python",
   "pygments_lexer": "ipython3",
   "version": "3.8.8"
  }
 },
 "nbformat": 4,
 "nbformat_minor": 5
}
