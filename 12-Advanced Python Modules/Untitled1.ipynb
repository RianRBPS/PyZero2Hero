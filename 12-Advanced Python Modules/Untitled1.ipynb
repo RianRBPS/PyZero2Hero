{
 "cells": [
  {
   "cell_type": "code",
   "execution_count": 4,
   "id": "ef21a366",
   "metadata": {},
   "outputs": [],
   "source": [
    "f = open('fileone.txt', 'w+')\n",
    "f.write('ONE FILE')\n",
    "f.close()"
   ]
  },
  {
   "cell_type": "code",
   "execution_count": 5,
   "id": "d6dd1c99",
   "metadata": {},
   "outputs": [],
   "source": [
    "f = open('filetwo.txt', 'w+')\n",
    "f.write('TWO FILE')\n",
    "f.close()"
   ]
  },
  {
   "cell_type": "code",
   "execution_count": 6,
   "id": "2b759d56",
   "metadata": {},
   "outputs": [],
   "source": [
    "import zipfile"
   ]
  },
  {
   "cell_type": "code",
   "execution_count": 7,
   "id": "ce65f7f1",
   "metadata": {},
   "outputs": [],
   "source": [
    "compressed_file = zipfile.ZipFile('compressed_file.zip','w')"
   ]
  },
  {
   "cell_type": "code",
   "execution_count": 8,
   "id": "6dcd20ce",
   "metadata": {},
   "outputs": [],
   "source": [
    "compressed_file.write('fileone.txt', compress_type = zipfile.ZIP_DEFLATED)"
   ]
  },
  {
   "cell_type": "code",
   "execution_count": 10,
   "id": "7befd9a7",
   "metadata": {},
   "outputs": [],
   "source": [
    "compressed_file.write('filetwo.txt', compress_type = zipfile.ZIP_DEFLATED)"
   ]
  },
  {
   "cell_type": "code",
   "execution_count": 11,
   "id": "b191fbef",
   "metadata": {},
   "outputs": [],
   "source": [
    "compressed_file.close()"
   ]
  },
  {
   "cell_type": "code",
   "execution_count": 12,
   "id": "eb027420",
   "metadata": {},
   "outputs": [],
   "source": [
    "zip_obj = zipfile.ZipFile('compressed_file.zip','r') # Reading method"
   ]
  },
  {
   "cell_type": "code",
   "execution_count": 13,
   "id": "84191ee2",
   "metadata": {},
   "outputs": [],
   "source": [
    "zip_obj.extractall('extracted_content')"
   ]
  },
  {
   "cell_type": "code",
   "execution_count": 14,
   "id": "6f988ea7",
   "metadata": {},
   "outputs": [
    {
     "data": {
      "text/plain": [
       "'C:\\\\Users\\\\kingt\\\\OneDrive\\\\Desktop\\\\Zero2Hero\\\\Complete-Python-3-Bootcamp-master\\\\12-Advanced Python Modules'"
      ]
     },
     "execution_count": 14,
     "metadata": {},
     "output_type": "execute_result"
    }
   ],
   "source": [
    "pwd"
   ]
  },
  {
   "cell_type": "code",
   "execution_count": 16,
   "id": "e03d0f1b",
   "metadata": {},
   "outputs": [],
   "source": [
    "import shutil"
   ]
  },
  {
   "cell_type": "code",
   "execution_count": 17,
   "id": "1c195b21",
   "metadata": {},
   "outputs": [],
   "source": [
    "dir_to_zip = 'C:\\\\Users\\\\kingt\\\\OneDrive\\\\Desktop\\\\Zero2Hero\\\\Complete-Python-3-Bootcamp-master\\\\12-Advanced Python Modules\\\\extracted_content'"
   ]
  },
  {
   "cell_type": "code",
   "execution_count": 18,
   "id": "3d551565",
   "metadata": {},
   "outputs": [],
   "source": [
    "output_filename = 'example'"
   ]
  },
  {
   "cell_type": "code",
   "execution_count": 20,
   "id": "90d97adf",
   "metadata": {},
   "outputs": [
    {
     "data": {
      "text/plain": [
       "'C:\\\\Users\\\\kingt\\\\OneDrive\\\\Desktop\\\\Zero2Hero\\\\Complete-Python-3-Bootcamp-master\\\\12-Advanced Python Modules\\\\example.zip'"
      ]
     },
     "execution_count": 20,
     "metadata": {},
     "output_type": "execute_result"
    }
   ],
   "source": [
    "shutil.make_archive(output_filename, 'zip', dir_to_zip)"
   ]
  },
  {
   "cell_type": "code",
   "execution_count": 21,
   "id": "ac0daa1e",
   "metadata": {},
   "outputs": [],
   "source": [
    "shutil.unpack_archive('example.zip', 'final_unzip', 'zip')"
   ]
  },
  {
   "cell_type": "code",
   "execution_count": null,
   "id": "4ab11f46",
   "metadata": {},
   "outputs": [],
   "source": []
  }
 ],
 "metadata": {
  "kernelspec": {
   "display_name": "Python 3",
   "language": "python",
   "name": "python3"
  },
  "language_info": {
   "codemirror_mode": {
    "name": "ipython",
    "version": 3
   },
   "file_extension": ".py",
   "mimetype": "text/x-python",
   "name": "python",
   "nbconvert_exporter": "python",
   "pygments_lexer": "ipython3",
   "version": "3.8.8"
  }
 },
 "nbformat": 4,
 "nbformat_minor": 5
}
